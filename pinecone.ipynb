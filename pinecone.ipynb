{
 "cells": [
  {
   "cell_type": "code",
   "execution_count": 1,
   "id": "6b2f8728",
   "metadata": {},
   "outputs": [],
   "source": [
    "%load_ext autoreload\n",
    "%autoreload 2\n"
   ]
  },
  {
   "cell_type": "code",
   "execution_count": 2,
   "id": "c3afdf25",
   "metadata": {},
   "outputs": [
    {
     "name": "stderr",
     "output_type": "stream",
     "text": [
      "c:\\Users\\People\\Desktop\\Projects\\AI\\arxiv-ai-agent\\.venv\\Lib\\site-packages\\tqdm\\auto.py:21: TqdmWarning: IProgress not found. Please update jupyter and ipywidgets. See https://ipywidgets.readthedocs.io/en/stable/user_install.html\n",
      "  from .autonotebook import tqdm as notebook_tqdm\n"
     ]
    }
   ],
   "source": [
    "from constants import embed_model\n",
    "from index_manager_pinecone import IndexManagerPinecone\n"
   ]
  },
  {
   "cell_type": "code",
   "execution_count": 3,
   "id": "f2f975bd",
   "metadata": {},
   "outputs": [
    {
     "name": "stdout",
     "output_type": "stream",
     "text": [
      "Initializing IndexManagerPinecone...\n",
      "Fetching papers with title: Language Models and count: 10\n"
     ]
    }
   ],
   "source": [
    "index_manager = IndexManagerPinecone(embed_model=embed_model, index_name=\"arxiv-app\")  \n",
    "index_manager.fetch_papers(\"Language Models\", 10)\n"
   ]
  },
  {
   "cell_type": "code",
   "execution_count": 5,
   "id": "20a0925d",
   "metadata": {},
   "outputs": [
    {
     "name": "stdout",
     "output_type": "stream",
     "text": [
      "Creating index...\n",
      "Some nodes are missing content, skipping them...\n",
      "Index created with 10 documents.\n"
     ]
    }
   ],
   "source": [
    "index_manager.create_index()"
   ]
  }
 ],
 "metadata": {
  "kernelspec": {
   "display_name": "arxiv-ai-agent-3.12",
   "language": "python",
   "name": "python3"
  },
  "language_info": {
   "codemirror_mode": {
    "name": "ipython",
    "version": 3
   },
   "file_extension": ".py",
   "mimetype": "text/x-python",
   "name": "python",
   "nbconvert_exporter": "python",
   "pygments_lexer": "ipython3",
   "version": "3.12.7"
  }
 },
 "nbformat": 4,
 "nbformat_minor": 5
}
